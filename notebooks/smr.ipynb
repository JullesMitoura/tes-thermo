{
 "cells": [
  {
   "cell_type": "markdown",
   "id": "0e0a5f57",
   "metadata": {},
   "source": [
    "### `tes-thermo`\n",
    "---\n",
    "\n",
    "In this notebook, we will use `tes-thermo` to calculate the equilibrium compositions for the steam methane reforming (SMR) process.\n",
    "\n",
    "Version 0.1.1 of `tes-thermo` allows the user to leverage the `thermo` library to retrieve information about the components and also enables the addition of new components.\n",
    "\n",
    "First, import the Component and Gibbs classes. Then, specify the components to be considered."
   ]
  },
  {
   "cell_type": "code",
   "execution_count": 8,
   "id": "dbfff567",
   "metadata": {},
   "outputs": [],
   "source": [
    "from tes_thermo.utils import Component\n",
    "from tes_thermo.gibbs import Gibbs\n",
    "import numpy as np\n",
    "\n",
    "new_components = {\n",
    "        \"methane\": {\n",
    "            \"name\": \"methane\",\n",
    "            \"Tc\": 190.6, \"Tc_unit\": \"K\",\n",
    "            \"Pc\": 45.99, \"Pc_unit\": \"bar\",\n",
    "            \"omega\": 0.012,\n",
    "            \"Vc\": 98.6, \"Vc_unit\": \"cm³/mol\",\n",
    "            \"Zc\": 0.286,\n",
    "            \"Hfgm\": -74520, \"Hfgm_unit\": \"J/mol\",\n",
    "            \"Gfgm\": -50460, \"Gfgm_unit\": \"J/mol\",\n",
    "            \"structure\": {\"C\": 1, \"H\": 4},\n",
    "            \"phase\": \"g\",\n",
    "            \"kijs\": [0, 0, 0, 0, 0, 0], # Interaction parameters with other components\n",
    "            \"cp_polynomial\": lambda T: 8.314 * (1.702 + 0.009081* T -0.000002164*T**2),\n",
    "        }\n",
    "    }\n",
    "\n",
    "components = ['water','carbon monoxide', 'carbon dioxide', 'hydrogen', 'methanol']"
   ]
  },
  {
   "cell_type": "markdown",
   "id": "e2d0d847",
   "metadata": {},
   "source": [
    "In `new_components`, the components to be added are defined. In this case, the user must specify all the thermodynamic properties of the component as well as the polynomial used to calculate $C_p$.\n",
    "\n",
    "For this example, the following polynomial was used:\n",
    "\n",
    "$$C_p(T) = R \\times \\left( 1.702 + 0.009081T - 0.000002164T^2 \\right)$$\n",
    "\n",
    "where $T$ is the temperature in Kelvin and $ C_p $ is the heat capacity in J/(mol·K).\n",
    "\n",
    "The components listed in `components` will be instantiated using the `Chemical` class from the `thermo` library."
   ]
  },
  {
   "cell_type": "code",
   "execution_count": null,
   "id": "8390654d",
   "metadata": {},
   "outputs": [],
   "source": [
    "components = Component(components, new_components)\n",
    "components = components.get_components()\n",
    "gibbs = Gibbs(components=components,equation='Ideal Gas')\n",
    "res = gibbs.solve_gibbs(T=1200, T_unit= 'K',\n",
    "                         P=1.0, P_unit='bar',\n",
    "                         initial=np.array([1, 0, 0, 0, 1, 0]))"
   ]
  },
  {
   "cell_type": "markdown",
   "id": "7537e2c5",
   "metadata": {},
   "source": [
    "Note that the `Component` class takes both `components` and `new_components` as arguments. The `get_components` method already returns the required structure to instantiate the `Gibbs` class.\n",
    "\n",
    "With this information, the `solve_gibbs` method returns the equilibrium compositions at temperature $T$ and pressure $P$, given the initial compositions specified by `initial`."
   ]
  },
  {
   "cell_type": "code",
   "execution_count": 9,
   "id": "ba4ddd15",
   "metadata": {},
   "outputs": [
    {
     "data": {
      "text/plain": [
       "{'Temperature (K)': 1200.0,\n",
       " 'Pressure (bar)': 1.0,\n",
       " 'Water': 0.7639475494006989,\n",
       " 'Carbon monoxide': 0.7633496223323687,\n",
       " 'Carbon dioxide': 0.23635142729379255,\n",
       " 'Hydrogen': 2.2354545448851115,\n",
       " 'Methanol': 3.6241292561174665e-09,\n",
       " 'Methane': 0.0002989665348374862}"
      ]
     },
     "execution_count": 9,
     "metadata": {},
     "output_type": "execute_result"
    }
   ],
   "source": [
    "res"
   ]
  }
 ],
 "metadata": {
  "kernelspec": {
   "display_name": ".venv",
   "language": "python",
   "name": "python3"
  },
  "language_info": {
   "codemirror_mode": {
    "name": "ipython",
    "version": 3
   },
   "file_extension": ".py",
   "mimetype": "text/x-python",
   "name": "python",
   "nbconvert_exporter": "python",
   "pygments_lexer": "ipython3",
   "version": "3.11.0"
  }
 },
 "nbformat": 4,
 "nbformat_minor": 5
}
