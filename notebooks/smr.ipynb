{
 "cells": [
  {
   "cell_type": "markdown",
   "id": "0e0a5f57",
   "metadata": {},
   "source": [
    "### `tes-thermo`\n",
    "---\n",
    "\n",
    "In this notebook, we will use `tes-thermo` to calculate the equilibrium compositions for the steam methane reforming (SMR) process.\n",
    "\n",
    "Version 0.1.1 of `tes-thermo` allows the user to leverage the `thermo` library to retrieve information about the components and also enables the addition of new components.\n",
    "\n",
    "First, import the Component and Gibbs classes. Then, specify the components to be considered."
   ]
  },
  {
   "cell_type": "code",
   "execution_count": null,
   "id": "46e12474",
   "metadata": {},
   "outputs": [],
   "source": [
    "%pip install -qU tes-thermo"
   ]
  },
  {
   "cell_type": "code",
   "execution_count": 6,
   "id": "dbfff567",
   "metadata": {},
   "outputs": [],
   "source": [
    "from tes_thermo.utils import Component\n",
    "from tes_thermo.gibbs import Gibbs\n",
    "import numpy as np\n",
    "\n",
    "new_components = {\n",
    "        \"methane\": {\n",
    "            \"name\": \"methane\",\n",
    "            \"Tc\": 190.6, \"Tc_unit\": \"K\",\n",
    "            \"Pc\": 45.99, \"Pc_unit\": \"bar\",\n",
    "            \"omega\": 0.012,\n",
    "            \"Vc\": 98.6, \"Vc_unit\": \"cm³/mol\",\n",
    "            \"Zc\": 0.286,\n",
    "            \"Hfgm\": -74520, \"Hfgm_unit\": \"J/mol\",\n",
    "            \"Gfgm\": -50460, \"Gfgm_unit\": \"J/mol\",\n",
    "            \"structure\": {\"C\": 1, \"H\": 4},\n",
    "            \"phase\": \"g\",\n",
    "#            \"kijs\": [0, 0, 0, 0, 0, 0], # Interaction parameters with other components\n",
    "            \"cp_polynomial\": lambda T: 8.314 * (1.702 + 0.009081* T -0.000002164*T**2),\n",
    "        }\n",
    "    }\n",
    "\n",
    "components = ['water','carbon monoxide', 'carbon dioxide', 'hydrogen', 'methanol']"
   ]
  },
  {
   "cell_type": "markdown",
   "id": "e2d0d847",
   "metadata": {},
   "source": [
    "In `new_components`, the components to be added are defined. In this case, the user must specify all the thermodynamic properties of the component as well as the polynomial used to calculate $C_p$.\n",
    "\n",
    "For this example, the following polynomial was used:\n",
    "\n",
    "$$C_p(T) = R \\times \\left( 1.702 + 0.009081T - 0.000002164T^2 \\right)$$\n",
    "\n",
    "where $T$ is the temperature in Kelvin and $ C_p $ is the heat capacity in J/(mol·K).\n",
    "\n",
    "The components listed in `components` will be instantiated using the `Chemical` class from the `thermo` library."
   ]
  },
  {
   "cell_type": "code",
   "execution_count": 7,
   "id": "8390654d",
   "metadata": {},
   "outputs": [
    {
     "name": "stderr",
     "output_type": "stream",
     "text": [
      "2025-08-15 00:36:31 - tes_thermo.gibbs.gibbs - INFO - Initializing Gibbs class...\n",
      "2025-08-15 00:36:31 - tes_thermo.gibbs.gibbs - INFO - Components created as Chemical from the thermo library: ['water', 'carbon monoxide', 'carbon dioxide', 'hydrogen', 'methanol']\n",
      "2025-08-15 00:36:31 - tes_thermo.gibbs.gibbs - INFO - Manually defined components: [{'name': 'methane', 'Tc': 190.6, 'Pc': 4599000.0, 'omega': 0.012, 'Vc': 9.859999999999998e-05, 'Zc': 0.286, 'Hfgm': -74520.0, 'Gfgm': -50460.0, 'phase': 'g', 'structure': {'C': 1, 'H': 4}, 'kijs': None, 'cp_coeffs': None, 'cp_polynomial': <function <lambda> at 0x326631760>}]\n",
      "2025-08-15 00:36:31 - tes_thermo.gibbs.gibbs - INFO - Equation of state: Peng-Robinson\n",
      "2025-08-15 00:36:31 - tes_thermo.gibbs.gibbs - INFO - Calculated kijs for methane: [0.013270068977719762, 0.00018971524403865736, 9.015419903968258e-05, 0.007480048013087104, 0.0008589821936367814, 0.0]\n",
      "2025-08-15 00:36:31 - tes_thermo.gibbs.gibbs - INFO - Starting Gibbs minimization problem resolution\n",
      "2025-08-15 00:36:31 - tes_thermo.gibbs.gibbs - INFO - Temperature: 800.0 K, Pressure: 6000000.0 Pa.\n",
      "2025-08-15 00:36:31 - tes_thermo.gibbs.gibbs - INFO - Phases identified - Solids: 0, Gases: 6\n",
      "2025-08-15 00:36:31 - tes_thermo.gibbs.gibbs - INFO - Element balance constraints added for 3 species\n",
      "2025-08-15 00:36:31 - tes_thermo.gibbs.gibbs - INFO - Starting optimization problem resolution\n"
     ]
    },
    {
     "name": "stdout",
     "output_type": "stream",
     "text": [
      "[-216510.76161070535, -190698.06341194085, -409037.01549091557, -8427.091101173908, -115109.93596023758, -22486.752311312306]\n"
     ]
    },
    {
     "name": "stderr",
     "output_type": "stream",
     "text": [
      "2025-08-15 00:36:31 - tes_thermo.gibbs.gibbs - INFO - Optimal solution found successfully\n"
     ]
    }
   ],
   "source": [
    "comps = Component(components, new_components)\n",
    "comps = comps.get_components()\n",
    "gibbs = Gibbs(components=comps,equation='Peng-Robinson')\n",
    "res = gibbs.solve_gibbs(T=800, T_unit= 'K',\n",
    "                         P=60, P_unit='bar',\n",
    "                         initial=np.array([0, 1, 0, 0, 1, 0]))"
   ]
  },
  {
   "cell_type": "markdown",
   "id": "7537e2c5",
   "metadata": {},
   "source": [
    "Note that the `Component` class takes both `components` and `new_components` as arguments. The `get_components` method already returns the required structure to instantiate the `Gibbs` class.\n",
    "\n",
    "With this information, the `solve_gibbs` method returns the equilibrium compositions at temperature $T$ and pressure $P$, given the initial compositions specified by `initial`."
   ]
  },
  {
   "cell_type": "code",
   "execution_count": 8,
   "id": "ba4ddd15",
   "metadata": {},
   "outputs": [
    {
     "data": {
      "text/plain": [
       "{'Temperature (K)': 800.0,\n",
       " 'Pressure (bar)': 60.00000000000001,\n",
       " 'Water': 0.04337941510960611,\n",
       " 'Carbon monoxide': 0.11003626275025695,\n",
       " 'Carbon dioxide': 0.923292149916935,\n",
       " 'Hydrogen': 0.023277493427407873,\n",
       " 'Methanol': 5.225802852767064e-08,\n",
       " 'Methane': 0.9666715055286526}"
      ]
     },
     "execution_count": 8,
     "metadata": {},
     "output_type": "execute_result"
    }
   ],
   "source": [
    "res"
   ]
  }
 ],
 "metadata": {
  "kernelspec": {
   "display_name": ".venv",
   "language": "python",
   "name": "python3"
  },
  "language_info": {
   "codemirror_mode": {
    "name": "ipython",
    "version": 3
   },
   "file_extension": ".py",
   "mimetype": "text/x-python",
   "name": "python",
   "nbconvert_exporter": "python",
   "pygments_lexer": "ipython3",
   "version": "3.11.0"
  }
 },
 "nbformat": 4,
 "nbformat_minor": 5
}
