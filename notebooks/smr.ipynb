{
 "cells": [
  {
   "cell_type": "markdown",
   "id": "0e0a5f57",
   "metadata": {},
   "source": [
    "### `tes-thermo`\n",
    "---\n",
    "\n",
    "In this notebook, we will use `tes-thermo` to calculate the equilibrium compositions for the steam methane reforming (SMR) process.\n",
    "\n",
    "Version 0.1.1 of `tes-thermo` allows the user to leverage the `thermo` library to retrieve information about the components and also enables the addition of new components.\n",
    "\n",
    "First, import the Component and Gibbs classes. Then, specify the components to be considered."
   ]
  },
  {
   "cell_type": "code",
   "execution_count": 2,
   "id": "46e12474",
   "metadata": {},
   "outputs": [
    {
     "name": "stdout",
     "output_type": "stream",
     "text": [
      "Note: you may need to restart the kernel to use updated packages.\n"
     ]
    }
   ],
   "source": [
    "%pip install -q tes-thermo==0.1.2"
   ]
  },
  {
   "cell_type": "code",
   "execution_count": 3,
   "id": "dbfff567",
   "metadata": {},
   "outputs": [],
   "source": [
    "from tes_thermo.utils import Component\n",
    "from tes_thermo.gibbs import Gibbs\n",
    "import numpy as np\n",
    "\n",
    "new_components = {\n",
    "        \"methane\": {\n",
    "            \"name\": \"methane\",\n",
    "            \"Tc\": 190.6, \"Tc_unit\": \"K\",\n",
    "            \"Pc\": 45.99, \"Pc_unit\": \"bar\",\n",
    "            \"omega\": 0.012,\n",
    "            \"Vc\": 98.6, \"Vc_unit\": \"cm³/mol\",\n",
    "            \"Zc\": 0.286,\n",
    "            \"Hfgm\": -74520, \"Hfgm_unit\": \"J/mol\",\n",
    "            \"Gfgm\": -50460, \"Gfgm_unit\": \"J/mol\",\n",
    "            \"structure\": {\"C\": 1, \"H\": 4},\n",
    "            \"phase\": \"g\",\n",
    "            \"kijs\": [0, 0, 0, 0, 0, 0], # Interaction parameters with other components\n",
    "            \"cp_polynomial\": lambda T: 8.314 * (1.702 + 0.009081* T -0.000002164*T**2),\n",
    "        }\n",
    "    }\n",
    "\n",
    "components = ['water','carbon monoxide', 'carbon dioxide', 'hydrogen', 'methanol']"
   ]
  },
  {
   "cell_type": "markdown",
   "id": "e2d0d847",
   "metadata": {},
   "source": [
    "In `new_components`, the components to be added are defined. In this case, the user must specify all the thermodynamic properties of the component as well as the polynomial used to calculate $C_p$.\n",
    "\n",
    "For this example, the following polynomial was used:\n",
    "\n",
    "$$C_p(T) = R \\times \\left( 1.702 + 0.009081T - 0.000002164T^2 \\right)$$\n",
    "\n",
    "where $T$ is the temperature in Kelvin and $ C_p $ is the heat capacity in J/(mol·K).\n",
    "\n",
    "The components listed in `components` will be instantiated using the `Chemical` class from the `thermo` library."
   ]
  },
  {
   "cell_type": "code",
   "execution_count": 4,
   "id": "8390654d",
   "metadata": {},
   "outputs": [
    {
     "name": "stderr",
     "output_type": "stream",
     "text": [
      "2025-07-26 18:31:23 - tes_thermo.gibbs.gibbs - INFO - Initializing Gibbs class...\n",
      "2025-07-26 18:31:23 - tes_thermo.gibbs.gibbs - INFO - Components created as Chemical from the thermo library: ['water', 'carbon monoxide', 'carbon dioxide', 'hydrogen', 'methanol']\n",
      "2025-07-26 18:31:23 - tes_thermo.gibbs.gibbs - INFO - Manually defined components: [{'name': 'methane', 'Tc': 190.6, 'Pc': 4599000.0, 'omega': 0.012, 'Vc': 9.859999999999998e-05, 'Zc': 0.286, 'Hfgm': -74520.0, 'Gfgm': -50460.0, 'phase': 'g', 'structure': {'C': 1, 'H': 4}, 'kijs': [0, 0, 0, 0, 0, 0], 'cp_polynomial': <function <lambda> at 0x103e25b20>}]\n",
      "2025-07-26 18:31:23 - tes_thermo.gibbs.gibbs - INFO - Equation of state: Ideal Gas\n",
      "2025-07-26 18:31:23 - tes_thermo.gibbs.gibbs - INFO - Starting Gibbs minimization problem resolution\n",
      "2025-07-26 18:31:23 - tes_thermo.gibbs.gibbs - INFO - Temperature: 1200.0 K, Pressure: 100000.0 Pa.\n",
      "2025-07-26 18:31:23 - tes_thermo.gibbs.gibbs - INFO - Phases identified - Solids: 0, Gases: 6\n",
      "2025-07-26 18:31:23 - tes_thermo.gibbs.gibbs - INFO - Element balance constraints added for 3 species\n",
      "2025-07-26 18:31:23 - tes_thermo.gibbs.gibbs - INFO - Starting optimization problem resolution\n"
     ]
    },
    {
     "name": "stdout",
     "output_type": "stream",
     "text": [
      "[np.float64(-217718.73838899672), np.float64(-241808.25878361973), np.float64(-435817.8316102301), np.float64(-22724.499021260166), np.float64(-104515.72209531581), -14888.506381512696]\n"
     ]
    },
    {
     "name": "stderr",
     "output_type": "stream",
     "text": [
      "2025-07-26 18:31:23 - tes_thermo.gibbs.gibbs - INFO - Optimal solution found successfully\n"
     ]
    }
   ],
   "source": [
    "components = Component(components, new_components)\n",
    "components = components.get_components()\n",
    "gibbs = Gibbs(components=components,equation='Ideal Gas')\n",
    "res = gibbs.solve_gibbs(T=1200, T_unit= 'K',\n",
    "                         P=1.0, P_unit='bar',\n",
    "                         initial=np.array([1, 0, 0, 0, 1, 0]))"
   ]
  },
  {
   "cell_type": "markdown",
   "id": "7537e2c5",
   "metadata": {},
   "source": [
    "Note that the `Component` class takes both `components` and `new_components` as arguments. The `get_components` method already returns the required structure to instantiate the `Gibbs` class.\n",
    "\n",
    "With this information, the `solve_gibbs` method returns the equilibrium compositions at temperature $T$ and pressure $P$, given the initial compositions specified by `initial`."
   ]
  },
  {
   "cell_type": "code",
   "execution_count": 5,
   "id": "ba4ddd15",
   "metadata": {},
   "outputs": [
    {
     "data": {
      "text/plain": [
       "{'Temperature (K)': 1200.0,\n",
       " 'Pressure (bar)': 1.0,\n",
       " 'Water': 0.7639475494006989,\n",
       " 'Carbon monoxide': 0.7633496223323687,\n",
       " 'Carbon dioxide': 0.23635142729379255,\n",
       " 'Hydrogen': 2.2354545448851115,\n",
       " 'Methanol': 3.6241292561174665e-09,\n",
       " 'Methane': 0.0002989665348374862}"
      ]
     },
     "execution_count": 5,
     "metadata": {},
     "output_type": "execute_result"
    }
   ],
   "source": [
    "res"
   ]
  }
 ],
 "metadata": {
  "kernelspec": {
   "display_name": ".venv",
   "language": "python",
   "name": "python3"
  },
  "language_info": {
   "codemirror_mode": {
    "name": "ipython",
    "version": 3
   },
   "file_extension": ".py",
   "mimetype": "text/x-python",
   "name": "python",
   "nbconvert_exporter": "python",
   "pygments_lexer": "ipython3",
   "version": "3.11.0"
  }
 },
 "nbformat": 4,
 "nbformat_minor": 5
}
