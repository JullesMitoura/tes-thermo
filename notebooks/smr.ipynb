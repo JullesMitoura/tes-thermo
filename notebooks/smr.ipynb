{
 "cells": [
  {
   "cell_type": "markdown",
   "id": "0e0a5f57",
   "metadata": {},
   "source": [
    "### `tes-thermo`\n",
    "---\n",
    "\n",
    "In this notebook, we will use `tes-thermo` to calculate the equilibrium compositions for the steam methane reforming (SMR) process.\n",
    "\n",
    "Version 0.1.1 of `tes-thermo` allows the user to leverage the `thermo` library to retrieve information about the components and also enables the addition of new components.\n",
    "\n",
    "First, import the Component and Gibbs classes. Then, specify the components to be considered."
   ]
  },
  {
   "cell_type": "code",
   "execution_count": null,
   "id": "46e12474",
   "metadata": {},
   "outputs": [],
   "source": [
    "%pip install -qU tes-thermo"
   ]
  },
  {
   "cell_type": "code",
   "execution_count": 1,
   "id": "405c9c0f",
   "metadata": {},
   "outputs": [
    {
     "name": "stdout",
     "output_type": "stream",
     "text": [
      "/Users/mitoura/Desktop/Repositories/tes-thermo\n"
     ]
    }
   ],
   "source": [
    "%cd .."
   ]
  },
  {
   "cell_type": "code",
   "execution_count": 2,
   "id": "dbfff567",
   "metadata": {},
   "outputs": [],
   "source": [
    "from tes_thermo.utils import Component\n",
    "from tes_thermo.gibbs import Gibbs\n",
    "import numpy as np\n",
    "\n",
    "new_components = {\n",
    "        \"methane\": {\n",
    "            \"name\": \"methane\",\n",
    "            \"Tc\": 190.6, \"Tc_unit\": \"K\",\n",
    "            \"Pc\": 45.99, \"Pc_unit\": \"bar\",\n",
    "            \"omega\": 0.012,\n",
    "            \"Vc\": 98.6, \"Vc_unit\": \"cm³/mol\",\n",
    "            \"Zc\": 0.286,\n",
    "            \"Hfgm\": -74520, \"Hfgm_unit\": \"J/mol\",\n",
    "            \"Gfgm\": -50460, \"Gfgm_unit\": \"J/mol\",\n",
    "            \"structure\": {\"C\": 1, \"H\": 4},\n",
    "            \"phase\": \"g\",\n",
    "#            \"kijs\": [0, 0, 0, 0, 0, 0], # Interaction parameters with other components\n",
    "            \"cp_polynomial\": lambda T: 8.314 * (1.702 + 0.009081* T -0.000002164*T**2),\n",
    "        }\n",
    "    }\n",
    "\n",
    "components = ['water','carbon monoxide', 'carbon dioxide', 'hydrogen', 'methanol', 'C12H24O2','143-07-7', 'C11H24', 'C12H26']"
   ]
  },
  {
   "cell_type": "markdown",
   "id": "e2d0d847",
   "metadata": {},
   "source": [
    "In `new_components`, the components to be added are defined. In this case, the user must specify all the thermodynamic properties of the component as well as the polynomial used to calculate $C_p$.\n",
    "\n",
    "For this example, the following polynomial was used:\n",
    "\n",
    "$$C_p(T) = R \\times \\left( 1.702 + 0.009081T - 0.000002164T^2 \\right)$$\n",
    "\n",
    "where $T$ is the temperature in Kelvin and $ C_p $ is the heat capacity in J/(mol·K).\n",
    "\n",
    "The components listed in `components` will be instantiated using the `Chemical` class from the `thermo` library."
   ]
  },
  {
   "cell_type": "code",
   "execution_count": 15,
   "id": "8390654d",
   "metadata": {},
   "outputs": [
    {
     "name": "stderr",
     "output_type": "stream",
     "text": [
      "2025-08-15 11:46:45 - tes_thermo.gibbs.gibbs - INFO - Initializing Gibbs class...\n",
      "2025-08-15 11:46:45 - tes_thermo.gibbs.gibbs - INFO - Components created as Chemical from the thermo library: ['water', 'carbon monoxide', 'carbon dioxide', 'hydrogen', 'methanol', 'C12H24O2', '143-07-7', 'C11H24', 'C12H26']\n",
      "2025-08-15 11:46:45 - tes_thermo.gibbs.gibbs - INFO - Manually defined components: [{'name': 'methane', 'Tc': 190.6, 'Pc': 4599000.0, 'omega': 0.012, 'Vc': 9.859999999999998e-05, 'Zc': 0.286, 'Hfgm': -74520.0, 'Gfgm': -50460.0, 'phase': 'g', 'structure': {'C': 1, 'H': 4}, 'kijs': None, 'cp_coeffs': None, 'cp_polynomial': <function <lambda> at 0x10b35a340>}]\n",
      "2025-08-15 11:46:45 - tes_thermo.gibbs.gibbs - INFO - Inhibited components: ['carbon dioxide', 'carbon monoxide', 'methane']\n",
      "2025-08-15 11:46:45 - tes_thermo.gibbs.gibbs - INFO - Equation of state: Virial\n",
      "2025-08-15 11:46:45 - tes_thermo.gibbs.gibbs - INFO - Calculated kijs for methane: [0.013270068977719762, 0.00018971524403865736, 9.015419903968258e-05, 0.007480048013087104, 0.0008589821936367814, 0.14651261863495424, 0.16162852376395087, 0.13771771586532533, 0.15529717551043454, 0.0]\n",
      "2025-08-15 11:46:45 - tes_thermo.gibbs.gibbs - INFO - Starting Gibbs minimization problem resolution\n",
      "2025-08-15 11:46:45 - tes_thermo.gibbs.gibbs - INFO - Temperature: 573.0 K, Pressure: 3000000.0 Pa.\n",
      "2025-08-15 11:46:45 - tes_thermo.gibbs.gibbs - INFO - Inhibited component found: carbon dioxide (index: 2)\n",
      "2025-08-15 11:46:45 - tes_thermo.gibbs.gibbs - INFO - Inhibited component found: carbon monoxide (index: 1)\n",
      "2025-08-15 11:46:45 - tes_thermo.gibbs.gibbs - INFO - Inhibited component found: methane (index: 9)\n",
      "2025-08-15 11:46:45 - tes_thermo.gibbs.gibbs - INFO - Total inhibited components: 3\n",
      "2025-08-15 11:46:45 - tes_thermo.gibbs.gibbs - INFO - Phases identified - Solids: 1, Gases: 9\n",
      "2025-08-15 11:46:45 - tes_thermo.gibbs.gibbs - INFO - Element balance constraints added for 3 species\n",
      "2025-08-15 11:46:45 - tes_thermo.gibbs.gibbs - INFO - Starting optimization problem resolution\n"
     ]
    },
    {
     "name": "stdout",
     "output_type": "stream",
     "text": [
      "[-219763.84381529444, -164683.0497975347, -399372.5767152574, -2906.8202366709284, -131744.4448241235, 10953.213266401784, -31743.65171318903, 286788.49857666437, 320272.3530190346, -32274.842968364843]\n"
     ]
    },
    {
     "name": "stderr",
     "output_type": "stream",
     "text": [
      "2025-08-15 11:46:45 - tes_thermo.gibbs.gibbs - INFO - Optimal solution found successfully\n"
     ]
    }
   ],
   "source": [
    "comps = Component(components, new_components)\n",
    "comps = comps.get_components()\n",
    "gibbs = Gibbs(components=comps,\n",
    "              equation='Virial', \n",
    "              inhibited_component = ['carbon dioxide','carbon monoxide', 'methane'])\n",
    "\n",
    "res = gibbs.solve_gibbs(T=573, T_unit= 'K',\n",
    "                         P=30, P_unit='bar',\n",
    "                         # 'water (1)','carbon monoxide (2)', 'carbon dioxide (3)', 'hydrogen (4)', 'methanol (5)', 'C12H24O2 (6)', 'Lauric acid (7)', 'C11H24 (8)', 'C12H26 (9)', 'methane (10)'\n",
    "                         #                (1) (2) (3) (4) (5) (6) (7) (8) (9)\n",
    "                         initial=np.array([0,  0,  0,  1,  0,  0, 1,  0,  0,  0]))"
   ]
  },
  {
   "cell_type": "markdown",
   "id": "7537e2c5",
   "metadata": {},
   "source": [
    "Note that the `Component` class takes both `components` and `new_components` as arguments. The `get_components` method already returns the required structure to instantiate the `Gibbs` class.\n",
    "\n",
    "With this information, the `solve_gibbs` method returns the equilibrium compositions at temperature $T$ and pressure $P$, given the initial compositions specified by `initial`."
   ]
  },
  {
   "cell_type": "code",
   "execution_count": 16,
   "id": "ba4ddd15",
   "metadata": {},
   "outputs": [
    {
     "data": {
      "text/plain": [
       "{'Temperature (K)': 573.0,\n",
       " 'Pressure (bar)': 30.000000000000004,\n",
       " 'Water': 0.6515359964353197,\n",
       " 'Carbon monoxide': 1.0009841923055985e-05,\n",
       " 'Carbon dioxide': 1.0009909959585808e-05,\n",
       " 'Hydrogen': 0.0013846055266460025,\n",
       " 'Methanol': 2.483250389545864e-06,\n",
       " 'Decyl acetate': 4.054035765386051e-06,\n",
       " 'Lauric acid': 0.6742117062641858,\n",
       " 'Undecane': 0.2556680331136172,\n",
       " 'Dodecane': 0.09141915579007258,\n",
       " 'Methane': 1.0009878910735158e-05}"
      ]
     },
     "execution_count": 16,
     "metadata": {},
     "output_type": "execute_result"
    }
   ],
   "source": [
    "res"
   ]
  }
 ],
 "metadata": {
  "kernelspec": {
   "display_name": ".venv",
   "language": "python",
   "name": "python3"
  },
  "language_info": {
   "codemirror_mode": {
    "name": "ipython",
    "version": 3
   },
   "file_extension": ".py",
   "mimetype": "text/x-python",
   "name": "python",
   "nbconvert_exporter": "python",
   "pygments_lexer": "ipython3",
   "version": "3.11.0"
  }
 },
 "nbformat": 4,
 "nbformat_minor": 5
}
