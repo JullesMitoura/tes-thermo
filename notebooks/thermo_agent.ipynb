{
 "cells": [
  {
   "cell_type": "markdown",
   "id": "020630f3",
   "metadata": {},
   "source": [
    "### `tes-thermo`\n",
    "---"
   ]
  },
  {
   "cell_type": "code",
   "execution_count": 1,
   "id": "54d565ef",
   "metadata": {},
   "outputs": [],
   "source": [
    "from tes_thermo.thermo_agent import ThermoAgent\n",
    "from tes_thermo.utils import VectorSearch\n",
    "from langchain_openai import AzureChatOpenAI, AzureOpenAIEmbeddings\n",
    "from dotenv import load_dotenv\n",
    "import os"
   ]
  },
  {
   "cell_type": "code",
   "execution_count": 2,
   "id": "509a5e1f",
   "metadata": {},
   "outputs": [],
   "source": [
    "load_dotenv(override=True)\n",
    "\n",
    "# example using Azure OpenAI services\n",
    "# Make sure to set the environment variables AZURE_OPENAI_API_KEY, AZURE_OPENAI_ENDPOINT,\n",
    "# LLM_DEPLOYMENT_MODEL, EMBEDDING_DEPLOYMENT_MODEL, LLM_API_VERSION, and EMBEDDING_API_VERSION\n",
    "# in your .env file or your environment before running this code.\n",
    "\n",
    "class AzureServices():\n",
    "    def __init__(self):\n",
    "        self.AZURE_OPENAI_API_KEY = os.getenv(\"AZURE_OPENAI_API_KEY\")\n",
    "        self.AZURE_OPENAI_ENDPOINT= os.getenv(\"AZURE_OPENAI_ENDPOINT\")\n",
    "        self.DEPLOYMENT_MODEL = \"gpt-4.1-mini\"\n",
    "        self.EMBEGGIND_MODEL = os.getenv(\"EMBEDDING_DEPLOYMENT_MODEL\")\n",
    "        self.LLM_VERSION = os.getenv(\"LLM_API_VERSION\")\n",
    "        self.EMBEDDING_VERSION = os.getenv(\"EMBEDDING_API_VERSION\")\n",
    "\n",
    "    def get_default_llm(self):\n",
    "        return AzureChatOpenAI(openai_api_version=self.LLM_VERSION,\n",
    "                                azure_endpoint=self.AZURE_OPENAI_ENDPOINT,\n",
    "                                openai_api_key=self.AZURE_OPENAI_API_KEY,\n",
    "                                azure_deployment=self.DEPLOYMENT_MODEL,\n",
    "                                temperature=0)\n",
    "    \n",
    "    def get_default_embedding(self):\n",
    "        return AzureOpenAIEmbeddings(api_key=self.AZURE_OPENAI_API_KEY,\n",
    "                                        api_version=self.EMBEDDING_VERSION,\n",
    "                                        deployment=self.EMBEGGIND_MODEL,\n",
    "                                        azure_endpoint=self.AZURE_OPENAI_ENDPOINT)\n",
    "\n",
    "services = AzureServices()\n",
    "llm = services.get_default_llm()\n",
    "embedding_model = services.get_default_embedding()"
   ]
  },
  {
   "cell_type": "code",
   "execution_count": 3,
   "id": "6267416a",
   "metadata": {},
   "outputs": [
    {
     "name": "stdout",
     "output_type": "stream",
     "text": [
      "/Users/mitoura/Desktop/Repositories/tes-thermo\n"
     ]
    }
   ],
   "source": [
    "%cd .."
   ]
  },
  {
   "cell_type": "code",
   "execution_count": 4,
   "id": "a5a400f3",
   "metadata": {},
   "outputs": [
    {
     "name": "stdout",
     "output_type": "stream",
     "text": [
      "Index created successfully with 35 chunks.\n"
     ]
    }
   ],
   "source": [
    "vsearch = VectorSearch.from_documents(\n",
    "    document_paths=['article.pdf'],  # replace with your document paths (pdf only...)\n",
    "    embedding=embedding_model\n",
    ")"
   ]
  },
  {
   "cell_type": "code",
   "execution_count": 5,
   "id": "11edc37d",
   "metadata": {},
   "outputs": [],
   "source": [
    "agent = ThermoAgent(llm = llm,\n",
    "                    vsearch = None,\n",
    "                    embedding_model= embedding_model)"
   ]
  },
  {
   "cell_type": "code",
   "execution_count": 7,
   "id": "9ddaa034",
   "metadata": {},
   "outputs": [
    {
     "name": "stdout",
     "output_type": "stream",
     "text": [
      "Aqui está a tabela resumida dos resultados da simulação do processo de hidrogenação do ácido láurico (143-07-7) com alimentação de 3 mols de H2 e 1 mol de 143-07-7, variando temperatura de 400 a 600 K e pressão de 10 a 50 bar. As concentrações são em mols:\n",
      "\n",
      "| Temperatura (K) | Pressão (bar) | water       | CO          | CO2         | H2          | 143-07-7    | C11H24      | C12H26      | ethane      | propane     | butane      | CH4         |\n",
      "|-----------------|---------------|-------------|-------------|-------------|-------------|-------------|-------------|-------------|-------------|-------------|-------------|-------------|\n",
      "| 400             | 10            | 7.5e-9      | 7.5e-3      | 0.996       | 4.4e-8      | 6.6e-9      | 0.38        | 0.21        | 0.15        | 0.18        | 0.13        | 2.95        |\n",
      "| 400             | 27.8          | 2.9e-8      | 1.8e-3      | 0.999       | 4.4e-8      | 2.3e-8      | 0.38        | 0.21        | 0.15        | 0.19        | 0.14        | 2.94        |\n",
      "| 600             | 32.2          | 2.2e-7      | 1.3         | 0.37        | 1.9e-5      | 3.5e-8      | 0.26        | 0.15        | 0.37        | 0.34        | 0.17        | 3.34        |\n",
      "| 600             | 50            | 4.4e-7      | 0.90        | 0.55        | 1.8e-5      | 1.0e-7      | 0.28        | 0.16        | 0.36        | 0.33        | 0.17        | 3.15        |\n",
      "\n",
      "Observações:\n",
      "- O ácido láurico (143-07-7) é praticamente consumido.\n",
      "- Produtos principais incluem C11H24, C12H26, etano, propano, butano e metano.\n",
      "- A concentração de CO e CO2 varia com temperatura e pressão, indicando reações secundárias.\n",
      "- Hidrogênio é consumido, confirmando a hidrogenação.\n",
      "\n",
      "Se desejar, posso fornecer a tabela completa ou análises específicas das rotas de reação.\n"
     ]
    }
   ],
   "source": [
    "prompt = \"\"\"\n",
    "Simule o processo de hidrogenacao de acido laurico considernado os seguintes compoenentes:\n",
    "'water','carbon monoxide', 'carbon dioxide', 'hydrogen', 'C12H24O2','143-07-7', 'C11H24', 'C12H26', 'ethane', 'propane', 'butane', 'CH4'\n",
    "\n",
    "\n",
    "Simule o processo de 400 a 600 K, 10 a 50 bar considerando a alimentacao composta de 3 mols de H2 e 1 mol de 143-07-7.\n",
    "\n",
    "O objetivo e avaliar as rotas adotadas, como referencia, consulte o artigo indicado.\n",
    "Mostre os resultados como tabela.\n",
    "\"\"\"\n",
    "res = agent.chat(prompt=prompt)\n",
    "print(res['output'])"
   ]
  }
 ],
 "metadata": {
  "kernelspec": {
   "display_name": ".venv",
   "language": "python",
   "name": "python3"
  },
  "language_info": {
   "codemirror_mode": {
    "name": "ipython",
    "version": 3
   },
   "file_extension": ".py",
   "mimetype": "text/x-python",
   "name": "python",
   "nbconvert_exporter": "python",
   "pygments_lexer": "ipython3",
   "version": "3.11.0"
  }
 },
 "nbformat": 4,
 "nbformat_minor": 5
}
