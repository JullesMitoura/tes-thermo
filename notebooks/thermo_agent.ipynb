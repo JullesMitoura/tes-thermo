{
 "cells": [
  {
   "cell_type": "markdown",
   "id": "020630f3",
   "metadata": {},
   "source": [
    "### `tes-thermo`\n",
    "---"
   ]
  },
  {
   "cell_type": "code",
   "execution_count": 1,
   "id": "54d565ef",
   "metadata": {},
   "outputs": [],
   "source": [
    "from tes_thermo.thermo_agent import ThermoAgent\n",
    "from tes_thermo.utils import VectorSearch\n",
    "from langchain_openai import AzureChatOpenAI, AzureOpenAIEmbeddings\n",
    "from dotenv import load_dotenv\n",
    "import os"
   ]
  },
  {
   "cell_type": "code",
   "execution_count": 2,
   "id": "509a5e1f",
   "metadata": {},
   "outputs": [],
   "source": [
    "load_dotenv(override=True)\n",
    "\n",
    "# example using Azure OpenAI services\n",
    "# Make sure to set the environment variables AZURE_OPENAI_API_KEY, AZURE_OPENAI_ENDPOINT,\n",
    "# LLM_DEPLOYMENT_MODEL, EMBEDDING_DEPLOYMENT_MODEL, LLM_API_VERSION, and EMBEDDING_API_VERSION\n",
    "# in your .env file or your environment before running this code.\n",
    "\n",
    "class AzureServices():\n",
    "    def __init__(self):\n",
    "        self.AZURE_OPENAI_API_KEY = os.getenv(\"AZURE_OPENAI_API_KEY\")\n",
    "        self.AZURE_OPENAI_ENDPOINT= os.getenv(\"AZURE_OPENAI_ENDPOINT\")\n",
    "        self.DEPLOYMENT_MODEL = \"gpt-4.1-mini\"\n",
    "        self.EMBEGGIND_MODEL = os.getenv(\"EMBEDDING_DEPLOYMENT_MODEL\")\n",
    "        self.LLM_VERSION = os.getenv(\"LLM_API_VERSION\")\n",
    "        self.EMBEDDING_VERSION = os.getenv(\"EMBEDDING_API_VERSION\")\n",
    "\n",
    "    def get_default_llm(self):\n",
    "        return AzureChatOpenAI(openai_api_version=self.LLM_VERSION,\n",
    "                                azure_endpoint=self.AZURE_OPENAI_ENDPOINT,\n",
    "                                openai_api_key=self.AZURE_OPENAI_API_KEY,\n",
    "                                azure_deployment=self.DEPLOYMENT_MODEL,\n",
    "                                temperature=0)\n",
    "    \n",
    "    def get_default_embedding(self):\n",
    "        return AzureOpenAIEmbeddings(api_key=self.AZURE_OPENAI_API_KEY,\n",
    "                                        api_version=self.EMBEDDING_VERSION,\n",
    "                                        deployment=self.EMBEGGIND_MODEL,\n",
    "                                        azure_endpoint=self.AZURE_OPENAI_ENDPOINT)\n",
    "\n",
    "services = AzureServices()\n",
    "llm = services.get_default_llm()\n",
    "embedding_model = services.get_default_embedding()"
   ]
  },
  {
   "cell_type": "code",
   "execution_count": 3,
   "id": "6267416a",
   "metadata": {},
   "outputs": [
    {
     "name": "stdout",
     "output_type": "stream",
     "text": [
      "/Users/mitoura/Desktop/Repositories/tes-thermo\n"
     ]
    }
   ],
   "source": [
    "%cd .."
   ]
  },
  {
   "cell_type": "code",
   "execution_count": 4,
   "id": "a5a400f3",
   "metadata": {},
   "outputs": [
    {
     "name": "stdout",
     "output_type": "stream",
     "text": [
      "Index created successfully with 65 chunks.\n"
     ]
    }
   ],
   "source": [
    "vsearch = VectorSearch.from_documents(\n",
    "    document_paths=['processes-13-02508.pdf'],  # replace with your document paths (pdf only...)\n",
    "    embedding=embedding_model\n",
    ")"
   ]
  },
  {
   "cell_type": "code",
   "execution_count": 5,
   "id": "11edc37d",
   "metadata": {},
   "outputs": [],
   "source": [
    "agent = ThermoAgent(llm = llm,\n",
    "                    vsearch = None,\n",
    "                    embedding_model= embedding_model)"
   ]
  },
  {
   "cell_type": "code",
   "execution_count": 6,
   "id": "9ddaa034",
   "metadata": {},
   "outputs": [
    {
     "name": "stdout",
     "output_type": "stream",
     "text": [
      "I have simulated the steam methane reforming (SMR) process at 1 bar with a feed of 1 mol CH4 and 1 mol H2O over a temperature range of 600 K to 1200 K. The equilibrium compositions show that hydrogen formation increases with temperature, reaching a maximum around 1200 K.\n",
      "\n",
      "Here is the summary table of the equilibrium mole fractions at different temperatures:\n",
      "\n",
      "| Temperature (K) | CH4    | H2O    | H2     | CO      | CO2    |\n",
      "|-----------------|--------|--------|--------|---------|--------|\n",
      "| 600             | 0.9544 | 0.9090 | 0.1823 | 0.0003  | 0.0453 |\n",
      "| 667             | 0.9089 | 0.8207 | 0.3614 | 0.0028  | 0.0882 |\n",
      "| 733             | 0.8401 | 0.6971 | 0.6226 | 0.0168  | 0.1430 |\n",
      "| 800             | 0.7409 | 0.5524 | 0.9657 | 0.0706  | 0.1885 |\n",
      "| 867             | 0.6000 | 0.4085 | 1.3915 | 0.2085  | 0.1915 |\n",
      "| 933             | 0.4239 | 0.2794 | 1.8728 | 0.4317  | 0.1444 |\n",
      "| 1000            | 0.2589 | 0.1747 | 2.3075 | 0.6569  | 0.0842 |\n",
      "| 1067            | 0.1453 | 0.1027 | 2.6068 | 0.8121  | 0.0426 |\n",
      "| 1133            | 0.0807 | 0.0598 | 2.7788 | 0.8984  | 0.0209 |\n",
      "| 1200            | 0.0464 | 0.0358 | 2.8714 | 0.9429  | 0.0106 |\n",
      "\n",
      "To optimize hydrogen production in SMR:\n",
      "- Higher temperatures favor hydrogen formation due to the endothermic nature of the reforming reactions.\n",
      "- Lower pressures generally favor hydrogen yield.\n",
      "- The steam-to-carbon ratio (H2O/CH4) can be increased to suppress carbon formation and improve hydrogen yield.\n",
      "- Catalysts and reactor design also play critical roles.\n",
      "\n",
      "If you want, I can search the references for more detailed optimization strategies and discuss them. Would you like me to do that?\n"
     ]
    }
   ],
   "source": [
    "prompt = \"\"\"\n",
    "Simulate the steam methane reforming (SMR) process. Consider methane, water, hydrogen, CO, and CO₂. \n",
    "The feed consists of 1 mol of water and 1 mol of CH₄ at 1 bar. \n",
    "Search for conditions that maximize H2 formation.\n",
    "Show the results as table.\n",
    "Consult the references and discuss how to optimize this process.\n",
    "\"\"\"\n",
    "res = agent.chat(prompt=prompt)\n",
    "print(res['output'])"
   ]
  }
 ],
 "metadata": {
  "kernelspec": {
   "display_name": ".venv",
   "language": "python",
   "name": "python3"
  },
  "language_info": {
   "codemirror_mode": {
    "name": "ipython",
    "version": 3
   },
   "file_extension": ".py",
   "mimetype": "text/x-python",
   "name": "python",
   "nbconvert_exporter": "python",
   "pygments_lexer": "ipython3",
   "version": "3.11.0"
  }
 },
 "nbformat": 4,
 "nbformat_minor": 5
}
