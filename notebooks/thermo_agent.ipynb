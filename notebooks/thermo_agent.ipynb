{
 "cells": [
  {
   "cell_type": "markdown",
   "id": "020630f3",
   "metadata": {},
   "source": [
    "### `tes-thermo`\n",
    "---"
   ]
  },
  {
   "cell_type": "code",
   "execution_count": 1,
   "id": "54d565ef",
   "metadata": {},
   "outputs": [],
   "source": [
    "from tes_thermo.thermo_agent import ThermoAgent\n",
    "from tes_thermo.utils import VectorSearch\n",
    "from langchain_openai import AzureChatOpenAI, AzureOpenAIEmbeddings\n",
    "from dotenv import load_dotenv\n",
    "import os"
   ]
  },
  {
   "cell_type": "code",
   "execution_count": 2,
   "id": "509a5e1f",
   "metadata": {},
   "outputs": [],
   "source": [
    "load_dotenv(override=True)\n",
    "\n",
    "# example using Azure OpenAI services\n",
    "# Make sure to set the environment variables AZURE_OPENAI_API_KEY, AZURE_OPENAI_ENDPOINT,\n",
    "# LLM_DEPLOYMENT_MODEL, EMBEDDING_DEPLOYMENT_MODEL, LLM_API_VERSION, and EMBEDDING_API_VERSION\n",
    "# in your .env file or your environment before running this code.\n",
    "\n",
    "class AzureServices():\n",
    "    def __init__(self):\n",
    "        self.AZURE_OPENAI_API_KEY = os.getenv(\"AZURE_OPENAI_API_KEY\")\n",
    "        self.AZURE_OPENAI_ENDPOINT= os.getenv(\"AZURE_OPENAI_ENDPOINT\")\n",
    "        self.DEPLOYMENT_MODEL = os.getenv(\"LLM_DEPLOYMENT_MODEL\")\n",
    "        self.EMBEGGIND_MODEL = os.getenv(\"EMBEDDING_DEPLOYMENT_MODEL\")\n",
    "        self.LLM_VERSION = os.getenv(\"LLM_API_VERSION\")\n",
    "        self.EMBEDDING_VERSION = os.getenv(\"EMBEDDING_API_VERSION\")\n",
    "\n",
    "    def get_default_llm(self):\n",
    "        return AzureChatOpenAI(openai_api_version=self.LLM_VERSION,\n",
    "                                azure_endpoint=self.AZURE_OPENAI_ENDPOINT,\n",
    "                                openai_api_key=self.AZURE_OPENAI_API_KEY,\n",
    "                                azure_deployment=self.DEPLOYMENT_MODEL,\n",
    "                                temperature=0)\n",
    "    \n",
    "    def get_default_embedding(self):\n",
    "        return AzureOpenAIEmbeddings(api_key=self.AZURE_OPENAI_API_KEY,\n",
    "                                        api_version=self.EMBEDDING_VERSION,\n",
    "                                        deployment=self.EMBEGGIND_MODEL,\n",
    "                                        azure_endpoint=self.AZURE_OPENAI_ENDPOINT)\n",
    "\n",
    "services = AzureServices()\n",
    "llm = services.get_default_llm()\n",
    "embedding_model = services.get_default_embedding()"
   ]
  },
  {
   "cell_type": "code",
   "execution_count": 3,
   "id": "a5a400f3",
   "metadata": {},
   "outputs": [
    {
     "name": "stdout",
     "output_type": "stream",
     "text": [
      "File not found: 'doc1...'. Skipping.\n",
      "File not found: 'doc2...'. Skipping.\n",
      "No documents were processed. Empty index created.\n"
     ]
    }
   ],
   "source": [
    "vsearch = VectorSearch.from_documents(\n",
    "    document_paths=['doc1...', 'doc2...'],  # replace with your document paths (pdf only...)\n",
    "    embedding=embedding_model\n",
    ")"
   ]
  },
  {
   "cell_type": "code",
   "execution_count": 4,
   "id": "11edc37d",
   "metadata": {},
   "outputs": [],
   "source": [
    "agent = ThermoAgent(llm = llm,\n",
    "                    vsearch = vsearch,\n",
    "                    embedding_model= embedding_model)"
   ]
  },
  {
   "cell_type": "code",
   "execution_count": 5,
   "id": "9ddaa034",
   "metadata": {},
   "outputs": [
    {
     "name": "stdout",
     "output_type": "stream",
     "text": [
      "The simulation of the steam methane reforming (SMR) process at 1200 K and 1 bar with a feed of 1 mol of methane (CH4) and 1 mol of water (H2O) results in the following equilibrium composition (in mol):\n",
      "\n",
      "- CH4: 0.04642\n",
      "- H2O: 0.03578\n",
      "- H2: 2.87138\n",
      "- CO: 0.94294\n",
      "- CO2: 0.01064\n",
      "\n",
      "Regarding the optimization of the steam methane reforming process, I have consulted the literature but did not find specific details in the current documents. Generally, optimization strategies for SMR include controlling the temperature, pressure, steam-to-carbon ratio, and catalyst selection to maximize hydrogen yield and minimize carbon formation.\n",
      "\n",
      "If you want, I can help you further explore optimization strategies or simulate the process under different conditions.\n"
     ]
    }
   ],
   "source": [
    "prompt = \"\"\"\n",
    "Simulate the steam methane reforming (SMR) process. Consider methane, water, hydrogen, CO, and CO₂. \n",
    "The feed consists of 1 mol of water and 1 mol of CH₄ at 1200 K and 1 bar. \n",
    "Consult the literature on how to optimize the steam methane reforming process.\n",
    "\"\"\"\n",
    "res = agent.chat(prompt=prompt)\n",
    "print(res['output'])"
   ]
  }
 ],
 "metadata": {
  "kernelspec": {
   "display_name": ".venv",
   "language": "python",
   "name": "python3"
  },
  "language_info": {
   "codemirror_mode": {
    "name": "ipython",
    "version": 3
   },
   "file_extension": ".py",
   "mimetype": "text/x-python",
   "name": "python",
   "nbconvert_exporter": "python",
   "pygments_lexer": "ipython3",
   "version": "3.11.0"
  }
 },
 "nbformat": 4,
 "nbformat_minor": 5
}
